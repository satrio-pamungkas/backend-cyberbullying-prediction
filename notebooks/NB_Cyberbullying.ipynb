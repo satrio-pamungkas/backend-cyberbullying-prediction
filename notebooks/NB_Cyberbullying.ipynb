{
  "cells": [
    {
      "cell_type": "code",
      "execution_count": 1,
      "metadata": {
        "id": "nPOpQnThW4-x"
      },
      "outputs": [],
      "source": [
        "import pandas as pd\n",
        "from sklearn.model_selection import train_test_split\n",
        "from sklearn.feature_extraction.text import CountVectorizer"
      ]
    },
    {
      "cell_type": "code",
      "execution_count": 2,
      "metadata": {
        "colab": {
          "base_uri": "https://localhost:8080/",
          "height": 206
        },
        "id": "r7j1Ue58ZGe0",
        "outputId": "17186847-d073-4ce3-c25d-5ddf56c21c3c"
      },
      "outputs": [
        {
          "data": {
            "text/html": [
              "<div>\n",
              "<style scoped>\n",
              "    .dataframe tbody tr th:only-of-type {\n",
              "        vertical-align: middle;\n",
              "    }\n",
              "\n",
              "    .dataframe tbody tr th {\n",
              "        vertical-align: top;\n",
              "    }\n",
              "\n",
              "    .dataframe thead th {\n",
              "        text-align: right;\n",
              "    }\n",
              "</style>\n",
              "<table border=\"1\" class=\"dataframe\">\n",
              "  <thead>\n",
              "    <tr style=\"text-align: right;\">\n",
              "      <th></th>\n",
              "      <th>No.</th>\n",
              "      <th>Nama Instagram</th>\n",
              "      <th>Komentar</th>\n",
              "      <th>Kategori</th>\n",
              "      <th>Tanggal Posting</th>\n",
              "      <th>Nama Akun IG  Artis/Selebgram</th>\n",
              "      <th>Unnamed: 6</th>\n",
              "      <th>Unnamed: 7</th>\n",
              "    </tr>\n",
              "  </thead>\n",
              "  <tbody>\n",
              "    <tr>\n",
              "      <th>0</th>\n",
              "      <td>1</td>\n",
              "      <td>@delliananda</td>\n",
              "      <td>\"Kaka tidur yaa, udah pagi, gaboleh capek2\"</td>\n",
              "      <td>Non-bullying</td>\n",
              "      <td>14 Oktober 2019</td>\n",
              "      <td>@isyanasarasvati</td>\n",
              "      <td>NaN</td>\n",
              "      <td>NaN</td>\n",
              "    </tr>\n",
              "    <tr>\n",
              "      <th>1</th>\n",
              "      <td>2</td>\n",
              "      <td>@fenninbl</td>\n",
              "      <td>\"makan nasi padang aja begini badannya\"</td>\n",
              "      <td>Non-bullying</td>\n",
              "      <td>14 Oktober 2019</td>\n",
              "      <td>@isyanasarasvati</td>\n",
              "      <td>NaN</td>\n",
              "      <td>NaN</td>\n",
              "    </tr>\n",
              "    <tr>\n",
              "      <th>2</th>\n",
              "      <td>3</td>\n",
              "      <td>@abdurahmanshq</td>\n",
              "      <td>\"yang aku suka dari dia adalah selalu cukur je...</td>\n",
              "      <td>Bullying</td>\n",
              "      <td>14 Oktober 2019</td>\n",
              "      <td>@isyanasarasvati</td>\n",
              "      <td>NaN</td>\n",
              "      <td>NaN</td>\n",
              "    </tr>\n",
              "    <tr>\n",
              "      <th>3</th>\n",
              "      <td>4</td>\n",
              "      <td>@najla.yoo</td>\n",
              "      <td>\"Hai kak Isyana aku ngefans banget sama kak Is...</td>\n",
              "      <td>Non-bullying</td>\n",
              "      <td>14 Oktober 2019</td>\n",
              "      <td>@isyanasarasvati</td>\n",
              "      <td>NaN</td>\n",
              "      <td>NaN</td>\n",
              "    </tr>\n",
              "    <tr>\n",
              "      <th>4</th>\n",
              "      <td>5</td>\n",
              "      <td>@dessy_______</td>\n",
              "      <td>\"Manusia apa bidadari sih herann deh cantik te...</td>\n",
              "      <td>Non-bullying</td>\n",
              "      <td>14 Oktober 2019</td>\n",
              "      <td>@isyanasarasvati</td>\n",
              "      <td>NaN</td>\n",
              "      <td>NaN</td>\n",
              "    </tr>\n",
              "  </tbody>\n",
              "</table>\n",
              "</div>"
            ],
            "text/plain": [
              "   No.  Nama Instagram                                           Komentar  \\\n",
              "0    1    @delliananda        \"Kaka tidur yaa, udah pagi, gaboleh capek2\"   \n",
              "1    2       @fenninbl            \"makan nasi padang aja begini badannya\"   \n",
              "2    3  @abdurahmanshq  \"yang aku suka dari dia adalah selalu cukur je...   \n",
              "3    4      @najla.yoo  \"Hai kak Isyana aku ngefans banget sama kak Is...   \n",
              "4    5   @dessy_______  \"Manusia apa bidadari sih herann deh cantik te...   \n",
              "\n",
              "       Kategori  Tanggal Posting Nama Akun IG  Artis/Selebgram  Unnamed: 6  \\\n",
              "0  Non-bullying  14 Oktober 2019              @isyanasarasvati         NaN   \n",
              "1  Non-bullying  14 Oktober 2019              @isyanasarasvati         NaN   \n",
              "2      Bullying  14 Oktober 2019              @isyanasarasvati         NaN   \n",
              "3  Non-bullying  14 Oktober 2019              @isyanasarasvati         NaN   \n",
              "4  Non-bullying  14 Oktober 2019              @isyanasarasvati         NaN   \n",
              "\n",
              "  Unnamed: 7  \n",
              "0        NaN  \n",
              "1        NaN  \n",
              "2        NaN  \n",
              "3        NaN  \n",
              "4        NaN  "
            ]
          },
          "execution_count": 2,
          "metadata": {},
          "output_type": "execute_result"
        }
      ],
      "source": [
        "data = pd.read_csv(\"../dataset/dataset-cyberbullying.csv\")\n",
        "data.head()"
      ]
    },
    {
      "cell_type": "code",
      "execution_count": 3,
      "metadata": {
        "colab": {
          "base_uri": "https://localhost:8080/",
          "height": 250
        },
        "id": "10sp4QkwZIGy",
        "outputId": "593c1c13-d8a7-4dbf-9269-45922adc3727"
      },
      "outputs": [
        {
          "name": "stderr",
          "output_type": "stream",
          "text": [
            "/tmp/ipykernel_15641/1653748368.py:1: FutureWarning: The default value of regex will change from True to False in a future version.\n",
            "  data['Komentar'] = data['Komentar'].str.replace(r\"[\\\"\\',]\", '')\n"
          ]
        },
        {
          "data": {
            "text/html": [
              "<div>\n",
              "<style scoped>\n",
              "    .dataframe tbody tr th:only-of-type {\n",
              "        vertical-align: middle;\n",
              "    }\n",
              "\n",
              "    .dataframe tbody tr th {\n",
              "        vertical-align: top;\n",
              "    }\n",
              "\n",
              "    .dataframe thead th {\n",
              "        text-align: right;\n",
              "    }\n",
              "</style>\n",
              "<table border=\"1\" class=\"dataframe\">\n",
              "  <thead>\n",
              "    <tr style=\"text-align: right;\">\n",
              "      <th></th>\n",
              "      <th>No.</th>\n",
              "      <th>Nama Instagram</th>\n",
              "      <th>Komentar</th>\n",
              "      <th>Kategori</th>\n",
              "      <th>Tanggal Posting</th>\n",
              "      <th>Nama Akun IG  Artis/Selebgram</th>\n",
              "      <th>Unnamed: 6</th>\n",
              "      <th>Unnamed: 7</th>\n",
              "    </tr>\n",
              "  </thead>\n",
              "  <tbody>\n",
              "    <tr>\n",
              "      <th>0</th>\n",
              "      <td>1</td>\n",
              "      <td>@delliananda</td>\n",
              "      <td>Kaka tidur yaa udah pagi gaboleh capek2</td>\n",
              "      <td>Non-bullying</td>\n",
              "      <td>14 Oktober 2019</td>\n",
              "      <td>@isyanasarasvati</td>\n",
              "      <td>NaN</td>\n",
              "      <td>NaN</td>\n",
              "    </tr>\n",
              "    <tr>\n",
              "      <th>1</th>\n",
              "      <td>2</td>\n",
              "      <td>@fenninbl</td>\n",
              "      <td>makan nasi padang aja begini badannya</td>\n",
              "      <td>Non-bullying</td>\n",
              "      <td>14 Oktober 2019</td>\n",
              "      <td>@isyanasarasvati</td>\n",
              "      <td>NaN</td>\n",
              "      <td>NaN</td>\n",
              "    </tr>\n",
              "    <tr>\n",
              "      <th>2</th>\n",
              "      <td>3</td>\n",
              "      <td>@abdurahmanshq</td>\n",
              "      <td>yang aku suka dari dia adalah selalu cukur jem...</td>\n",
              "      <td>Bullying</td>\n",
              "      <td>14 Oktober 2019</td>\n",
              "      <td>@isyanasarasvati</td>\n",
              "      <td>NaN</td>\n",
              "      <td>NaN</td>\n",
              "    </tr>\n",
              "    <tr>\n",
              "      <th>3</th>\n",
              "      <td>4</td>\n",
              "      <td>@najla.yoo</td>\n",
              "      <td>Hai kak Isyana aku ngefans banget sama kak Isy...</td>\n",
              "      <td>Non-bullying</td>\n",
              "      <td>14 Oktober 2019</td>\n",
              "      <td>@isyanasarasvati</td>\n",
              "      <td>NaN</td>\n",
              "      <td>NaN</td>\n",
              "    </tr>\n",
              "    <tr>\n",
              "      <th>4</th>\n",
              "      <td>5</td>\n",
              "      <td>@dessy_______</td>\n",
              "      <td>Manusia apa bidadari sih herann deh cantik ter...</td>\n",
              "      <td>Non-bullying</td>\n",
              "      <td>14 Oktober 2019</td>\n",
              "      <td>@isyanasarasvati</td>\n",
              "      <td>NaN</td>\n",
              "      <td>NaN</td>\n",
              "    </tr>\n",
              "  </tbody>\n",
              "</table>\n",
              "</div>"
            ],
            "text/plain": [
              "   No.  Nama Instagram                                           Komentar  \\\n",
              "0    1    @delliananda            Kaka tidur yaa udah pagi gaboleh capek2   \n",
              "1    2       @fenninbl              makan nasi padang aja begini badannya   \n",
              "2    3  @abdurahmanshq  yang aku suka dari dia adalah selalu cukur jem...   \n",
              "3    4      @najla.yoo  Hai kak Isyana aku ngefans banget sama kak Isy...   \n",
              "4    5   @dessy_______  Manusia apa bidadari sih herann deh cantik ter...   \n",
              "\n",
              "       Kategori  Tanggal Posting Nama Akun IG  Artis/Selebgram  Unnamed: 6  \\\n",
              "0  Non-bullying  14 Oktober 2019              @isyanasarasvati         NaN   \n",
              "1  Non-bullying  14 Oktober 2019              @isyanasarasvati         NaN   \n",
              "2      Bullying  14 Oktober 2019              @isyanasarasvati         NaN   \n",
              "3  Non-bullying  14 Oktober 2019              @isyanasarasvati         NaN   \n",
              "4  Non-bullying  14 Oktober 2019              @isyanasarasvati         NaN   \n",
              "\n",
              "  Unnamed: 7  \n",
              "0        NaN  \n",
              "1        NaN  \n",
              "2        NaN  \n",
              "3        NaN  \n",
              "4        NaN  "
            ]
          },
          "execution_count": 3,
          "metadata": {},
          "output_type": "execute_result"
        }
      ],
      "source": [
        "data['Komentar'] = data['Komentar'].str.replace(r\"[\\\"\\',]\", '')\n",
        "data.head()"
      ]
    },
    {
      "cell_type": "code",
      "execution_count": 4,
      "metadata": {
        "id": "-sDLHZmkZJQs"
      },
      "outputs": [],
      "source": [
        "x = data['Komentar']\n",
        "y = data['Kategori']\n",
        "\n",
        "x_train, x_test, y_train, y_test = train_test_split(x, y, test_size=0.3)"
      ]
    },
    {
      "cell_type": "code",
      "execution_count": 5,
      "metadata": {
        "id": "6FmpYyr_ZMj1"
      },
      "outputs": [],
      "source": [
        "cv = CountVectorizer()\n",
        "features = cv.fit_transform(x_train)"
      ]
    },
    {
      "cell_type": "code",
      "execution_count": 12,
      "metadata": {
        "colab": {
          "base_uri": "https://localhost:8080/"
        },
        "id": "eCX5SI6vZPfW",
        "outputId": "b25d7c48-7345-4298-ebdc-cf01bacce336"
      },
      "outputs": [
        {
          "name": "stdout",
          "output_type": "stream",
          "text": [
            "Accuracy: 0.7897435897435897\n"
          ]
        }
      ],
      "source": [
        "# from sklearn import naive_bayes\n",
        "\n",
        "# model = naive_bayes.MultinomialNB()\n",
        "from sklearn import svm \n",
        "\n",
        "model = svm.LinearSVC()\n",
        "model.fit(features, y_train)\n",
        "features_test = cv.transform(x_test)\n",
        "print(f\"Accuracy: {model.score(features_test, y_test)}\")"
      ]
    },
    {
      "cell_type": "code",
      "execution_count": 8,
      "metadata": {},
      "outputs": [
        {
          "data": {
            "text/plain": [
              "['../model/NB_Cyberbullying_model.pkl']"
            ]
          },
          "execution_count": 8,
          "metadata": {},
          "output_type": "execute_result"
        }
      ],
      "source": [
        "import joblib\n",
        "\n",
        "joblib.dump(model, '../model/NB_Cyberbullying_model.pkl')"
      ]
    },
    {
      "cell_type": "code",
      "execution_count": 9,
      "metadata": {
        "colab": {
          "base_uri": "https://localhost:8080/"
        },
        "id": "pYk1jYBZZniw",
        "outputId": "52f3cec1-bb49-4864-f157-fd3aafaa46c7"
      },
      "outputs": [
        {
          "data": {
            "text/plain": [
              "array(['Non-bullying'], dtype='<U12')"
            ]
          },
          "execution_count": 9,
          "metadata": {},
          "output_type": "execute_result"
        }
      ],
      "source": [
        "inputan = cv.transform([\"Semangat kuliahnya\"])\n",
        "model.predict(inputan)"
      ]
    }
  ],
  "metadata": {
    "colab": {
      "name": "NB-Cyberbullying.ipynb",
      "provenance": []
    },
    "kernelspec": {
      "display_name": "Python 3",
      "name": "python3"
    },
    "language_info": {
      "codemirror_mode": {
        "name": "ipython",
        "version": 3
      },
      "file_extension": ".py",
      "mimetype": "text/x-python",
      "name": "python",
      "nbconvert_exporter": "python",
      "pygments_lexer": "ipython3",
      "version": "3.8.10"
    }
  },
  "nbformat": 4,
  "nbformat_minor": 0
}
